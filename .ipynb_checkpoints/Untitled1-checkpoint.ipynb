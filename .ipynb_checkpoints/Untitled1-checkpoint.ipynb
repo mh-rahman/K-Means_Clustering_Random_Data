{
 "cells": [
  {
   "cell_type": "code",
   "execution_count": 247,
   "metadata": {},
   "outputs": [
    {
     "name": "stdout",
     "output_type": "stream",
     "text": [
      "Env ready!\n"
     ]
    }
   ],
   "source": [
    "import math\n",
    "import pandas as pd\n",
    "import numpy as np\n",
    "import random\n",
    "from copy import deepcopy\n",
    "import os, shutil\n",
    "import matplotlib.pyplot as plt\n",
    "%matplotlib inline\n",
    "\n",
    "print('Env ready!')"
   ]
  },
  {
   "cell_type": "code",
   "execution_count": 248,
   "metadata": {},
   "outputs": [],
   "source": [
    "def distance(x,y):\n",
    "    return np.sqrt(np.sum(np.square(x-y)))"
   ]
  },
  {
   "cell_type": "code",
   "execution_count": 249,
   "metadata": {},
   "outputs": [],
   "source": [
    "data_df=pd.read_csv('CSE575-HW03-Data.csv',header=None)\n",
    "data=np.asarray(data_df)\n",
    "# data_df.head()\n",
    "# data_df[0]\n",
    "# data_df[:1]\n",
    "#print(data_df[:random.randint(0,128)])"
   ]
  },
  {
   "cell_type": "code",
   "execution_count": 253,
   "metadata": {},
   "outputs": [
    {
     "name": "stdout",
     "output_type": "stream",
     "text": [
      "39\n",
      "90\n",
      "106\n",
      "41\n",
      "50\n",
      "60\n",
      "111\n",
      "94\n",
      "110\n"
     ]
    }
   ],
   "source": [
    "K=[2,3,4,5,6,7,8,9]\n",
    "centers=[]\n",
    "# clusters=[]\n",
    "# dist=[]\n",
    "for i in range(k):\n",
    "    ind = random.randint(0,127)\n",
    "    print(ind)\n",
    "    centers.append(data[ind])"
   ]
  },
  {
   "cell_type": "code",
   "execution_count": 254,
   "metadata": {},
   "outputs": [],
   "source": [
    "def clustering(data, centers,k):\n",
    "    clusters = [[] for i in range(k)]\n",
    "    dist = [[] for i in range(k)]\n",
    "    for s in range(128):\n",
    "        cluster = s\n",
    "        d = math.inf\n",
    "        for c in range(k):\n",
    "#             if k==4:\n",
    "#                 print(c,s)\n",
    "#                 print(centers[c])\n",
    "            d_ = distance(centers[c],data[s])\n",
    "            if d_ < d:\n",
    "                d = d_\n",
    "                cluster = c\n",
    "        clusters[cluster].append(s)\n",
    "        dist[cluster].append(d)\n",
    "    return clusters,dist"
   ]
  },
  {
   "cell_type": "code",
   "execution_count": 255,
   "metadata": {},
   "outputs": [],
   "source": [
    "def update_centers(clusters,dist,centers,k):\n",
    "    new_centers=[]\n",
    "    for c in range(k):\n",
    "        new_center = [0]*13\n",
    "        for i in clusters[c]:\n",
    "            new_center += data[i]\n",
    "        if len(clusters[c])!=0:\n",
    "            new_center = new_center/len(clusters[c])\n",
    "        new_centers.append(new_center)\n",
    "    return new_centers"
   ]
  },
  {
   "cell_type": "code",
   "execution_count": 289,
   "metadata": {},
   "outputs": [],
   "source": [
    "def plotClusters(clusters,i,k):\n",
    "    colors=['c*','yv','rx','k*','m.','r+','go','b.','y_','g.']\n",
    "    plt.clf()\n",
    "    for c in range(k):\n",
    "        x_ = [x[0] for x in data[clusters[c]]]\n",
    "        y_ = [x[1] for x in data[clusters[c]]]\n",
    "#         if k == 9:\n",
    "#             print(c)\n",
    "        plt.plot(x_,y_,colors[c])\n",
    "    plt.savefig('output_graphs/'+str(k)+'_'+str(i)+'_'+str(c)+'.png')"
   ]
  },
  {
   "cell_type": "code",
   "execution_count": 353,
   "metadata": {},
   "outputs": [],
   "source": [
    "def clearOuputFolder(path):\n",
    "    folder = path\n",
    "    for filename in os.listdir(folder):\n",
    "        file_path = os.path.join(folder, filename)\n",
    "        try:\n",
    "            if os.path.isfile(file_path) or os.path.islink(file_path):\n",
    "                os.unlink(file_path)\n",
    "            elif os.path.isdir(file_path):\n",
    "                shutil.rmtree(file_path)\n",
    "        except Exception as e:\n",
    "            print('Failed to delete %s. Reason: %s' % (file_path, e))\n",
    "\n"
   ]
  },
  {
   "cell_type": "code",
   "execution_count": 354,
   "metadata": {},
   "outputs": [],
   "source": [
    "def plot_cost(cost,i,k):\n",
    "    plt.clf()\n",
    "    #plt.ylim(30,100)\n",
    "    plt.plot(range(1,i+1), cost, color='red')\n",
    "    plt.savefig('cost_graphs\\cost_'+str(k)+'_'+str(i)+'.png')"
   ]
  },
  {
   "cell_type": "code",
   "execution_count": 356,
   "metadata": {},
   "outputs": [
    {
     "name": "stdout",
     "output_type": "stream",
     "text": [
      "Cluster:  2\n",
      "114 95 \n",
      "Cluster:  3\n",
      "70 53 18 \n",
      "Cluster:  4\n",
      "0 13 41 44 \n",
      "Cluster:  5\n",
      "25 85 59 38 88 \n",
      "Cluster:  6\n",
      "13 99 45 13 46 75 \n",
      "Cluster:  7\n",
      "119 74 88 54 62 109 124 \n",
      "Cluster:  8\n",
      "38 31 8 76 56 7 7 16 \n",
      "Cluster:  9\n",
      "103 70 90 84 73 7 123 115 55 \n"
     ]
    },
    {
     "data": {
      "image/png": "[encoded data removed]",
      "text/plain": [
       "<Figure size 432x288 with 1 Axes>"
      ]
     },
     "metadata": {
      "needs_background": "light"
     },
     "output_type": "display_data"
    }
   ],
   "source": [
    "#clearOuputFolder('output_graphs/')\n",
    "#clearOuputFolder('cost_graphs/')\n",
    "cost_func=[]\n",
    "for k in K:    \n",
    "    print('Cluster: ',k)\n",
    "    centers=[]\n",
    "    for i in range(k):\n",
    "        ind = random.randint(0,127)\n",
    "        centers.append(data[ind])\n",
    "        print(ind, end=' ')\n",
    "    print('')\n",
    "    prev_centers=[]\n",
    "    i=0\n",
    "    flag = True\n",
    "    cost=[]\n",
    "    while flag:\n",
    "        i+=1\n",
    "        prev_centers = deepcopy(centers)\n",
    "        clusters,dist = clustering(data,centers,k)\n",
    "        centers = update_centers(clusters,dist,centers,k)\n",
    "        cost.append(sum([sum(d)/len(d) if len(d)!=0 else 0 for d in dist]))\n",
    "        #plot_cost(cost,i,k)\n",
    "        flag = False\n",
    "        #plotClusters(clusters,i,k)\n",
    "        for c in range(k):\n",
    "            bool_ = centers[c] == prev_centers[c]\n",
    "            if type(bool_) != bool:\n",
    "                if 0 in bool_:\n",
    "                    flag = True\n",
    "    cost_func.append(sum([sum(d)/len(d) if len(d)!=0 else 0 for d in dist]))"
   ]
  },
  {
   "cell_type": "code",
   "execution_count": 364,
   "metadata": {},
   "outputs": [
    {
     "data": {
      "image/png": "[encoded data removed]",
      "text/plain": [
       "<Figure size 432x288 with 1 Axes>"
      ]
     },
     "metadata": {
      "needs_background": "light"
     },
     "output_type": "display_data"
    }
   ],
   "source": [
    "plt.clf()\n",
    "plt.ylim(0,100)\n",
    "plt.plot(K,cost_func,color='red')\n",
    "plt.savefig('cost_func_vs_k.png')"
   ]
  },
  {
   "cell_type": "code",
   "execution_count": 365,
   "metadata": {},
   "outputs": [],
   "source": [
    "# d_ = []\n",
    "# for d in dist:\n",
    "#     #print('{0:.2f}'.format(sum(d)/len(d)),end='\\t')\n",
    "#     d_.append(float('{0:.2f}'.format(sum(d)/len(d))))\n",
    "# print(d_)"
   ]
  },
  {
   "cell_type": "code",
   "execution_count": 204,
   "metadata": {},
   "outputs": [],
   "source": [
    "#centers_copy=deepcopy(centers)\n",
    "\n",
    "#k=4\n",
    "# centers=deepcopy(centers_copy)\n",
    "# prev_centers=[]\n",
    "# i=0\n",
    "# flag = True\n",
    "# #for i in range(10):\n",
    "# while flag:\n",
    "#     print('Iteration: ', i)\n",
    "#     prev_centers = deepcopy(centers)\n",
    "#     #print('Previous: ', prev_centers)\n",
    "#     clusters,dist = clustering(data, centers)\n",
    "#     centers = update_centers(clusters,dist,centers)\n",
    "#     flag = False\n",
    "#     plotClusters(clusters,i,k)\n",
    "#     for c in range(k):\n",
    "#         bool_ = centers[c] == prev_centers[c]\n",
    "# #         print(c, bool_)\n",
    "#         if 0 in bool_:\n",
    "#             flag = True\n",
    "#     #print('Centers = ',centers)\n",
    "#     #print('Clusters = ',clusters)\n",
    "#     #print('Dist = ', dist)\n",
    "# #     print(prev_centers)\n",
    "#     i+=1\n",
    "\n",
    "\n",
    "\n",
    "#         for d in dist:\n",
    "#             d1='{0:.2f}'.format(sum(d)/len(d))\n",
    "#             print(d1)\n",
    "#         print('')\n",
    "\n",
    "\n",
    "\n",
    "#             bool_list = list(bool_)\n",
    "#             bool_list.append(True)\n",
    "#             if 0 in list(bool_):\n",
    "#             if 0 in bool_list:"
   ]
  }
 ],
 "metadata": {
  "kernelspec": {
   "display_name": "Python 3",
   "language": "python",
   "name": "python3"
  },
  "language_info": {
   "codemirror_mode": {
    "name": "ipython",
    "version": 3
   },
   "file_extension": ".py",
   "mimetype": "text/x-python",
   "name": "python",
   "nbconvert_exporter": "python",
   "pygments_lexer": "ipython3",
   "version": "3.7.5"
  }
 },
 "nbformat": 4,
 "nbformat_minor": 2
}

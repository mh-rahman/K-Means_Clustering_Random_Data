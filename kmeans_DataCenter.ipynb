{
 "cells": [
  {
   "cell_type": "code",
   "execution_count": 123,
   "metadata": {},
   "outputs": [
    {
     "name": "stdout",
     "output_type": "stream",
     "text": [
      "Env ready!\n"
     ]
    }
   ],
   "source": [
    "import math\n",
    "import pandas as pd\n",
    "import numpy as np\n",
    "import random\n",
    "from copy import deepcopy\n",
    "import os, shutil\n",
    "import matplotlib.pyplot as plt\n",
    "%matplotlib inline\n",
    "\n",
    "print('Env ready!')"
   ]
  },
  {
   "cell_type": "code",
   "execution_count": 124,
   "metadata": {},
   "outputs": [],
   "source": [
    "def distance(x,y):\n",
    "    return np.sqrt(np.sum(np.square(x-y)))"
   ]
  },
  {
   "cell_type": "code",
   "execution_count": 125,
   "metadata": {},
   "outputs": [],
   "source": [
    "data_df=pd.read_csv('CSE575-HW03-Data.csv',header=None)\n",
    "data=np.asarray(data_df)"
   ]
  },
  {
   "cell_type": "code",
   "execution_count": 126,
   "metadata": {},
   "outputs": [
    {
     "data": {
      "text/plain": [
       "array([ 7.60285e+01, -1.38210e+00,  5.14120e+00,  1.86670e+00,\n",
       "        3.13000e-02, -5.08000e-02,  1.67520e+00, -8.00400e-01,\n",
       "       -2.57400e-01, -6.70800e-01,  1.22950e+00, -5.73800e-01,\n",
       "        2.83120e+00])"
      ]
     },
     "execution_count": 126,
     "metadata": {},
     "output_type": "execute_result"
    }
   ],
   "source": [
    "data[127]"
   ]
  },
  {
   "cell_type": "code",
   "execution_count": 127,
   "metadata": {},
   "outputs": [],
   "source": [
    "max_range=[]\n",
    "min_range=[]\n",
    "for i in range(13):\n",
    "    max_range.append(max(data[:,i]))\n",
    "    min_range.append(min(data[:,i]))\n",
    "\n",
    "center = np.asarray([random.uniform(min_range[x],max_range[x]) for x in range(13)])"
   ]
  },
  {
   "cell_type": "code",
   "execution_count": 128,
   "metadata": {},
   "outputs": [],
   "source": [
    "def updateCenter(center):\n",
    "#     print(center)\n",
    "    distFromCenter = [distance(center,d) for d in data]\n",
    "    inverted_dist = np.asarray([1/x for x in distFromCenter])\n",
    "    denom = np.sum(inverted_dist)\n",
    "    new_center = np.sum(np.asarray([data[i]*inverted_dist[i] for i in range(128)]), axis = 0)/denom\n",
    "    return new_center"
   ]
  },
  {
   "cell_type": "code",
   "execution_count": 132,
   "metadata": {},
   "outputs": [
    {
     "name": "stdout",
     "output_type": "stream",
     "text": [
      "[ 67.22018769 -10.0000562  -10.51057382  -6.82726991 -16.34665078\n",
      "  -0.32409291  -1.01980919  -3.5603636    1.05983267   0.90864374\n",
      "   1.07998763   1.31204246   1.03455248]\n"
     ]
    }
   ],
   "source": [
    "center = np.asarray([random.uniform(min_range[x],max_range[x]) for x in range(13)])\n",
    "print(center)"
   ]
  },
  {
   "cell_type": "code",
   "execution_count": 133,
   "metadata": {},
   "outputs": [
    {
     "name": "stdout",
     "output_type": "stream",
     "text": [
      "Iteration:  1\n",
      "Iteration:  2\n",
      "Iteration:  3\n",
      "Iteration:  4\n",
      "Iteration:  5\n",
      "Iteration:  6\n",
      "Iteration:  7\n",
      "Iteration:  8\n",
      "Iteration:  9\n",
      "Iteration:  10\n",
      "Iteration:  11\n",
      "Iteration:  12\n",
      "Iteration:  13\n",
      "Iteration:  14\n",
      "Iteration:  15\n",
      "Iteration:  16\n",
      "Iteration:  17\n",
      "Iteration:  18\n",
      "Iteration:  19\n",
      "Iteration:  20\n",
      "Iteration:  21\n",
      "Iteration:  22\n",
      "Iteration:  23\n",
      "Iteration:  24\n",
      "Iteration:  25\n",
      "Iteration:  26\n",
      "Iteration:  27\n",
      "Iteration:  28\n",
      "Iteration:  29\n",
      "Iteration:  30\n",
      "Iteration:  31\n",
      "Iteration:  32\n",
      "Iteration:  33\n",
      "Iteration:  34\n",
      "Iteration:  35\n",
      "Iteration:  36\n",
      "Iteration:  37\n",
      "Iteration:  38\n",
      "Iteration:  39\n",
      "Center after convergence =  [ 8.33430544e+01 -2.01846398e+00 -6.09935857e-02 -3.37486974e-01\n",
      " -3.93876065e+00 -1.54683152e+00 -2.15045567e+00 -4.93427203e-01\n",
      " -1.34570192e+00  4.79301824e-02  4.41441292e-01  1.85433906e-01\n",
      "  2.96448376e-01]\n"
     ]
    }
   ],
   "source": [
    "prev_center = []\n",
    "flag = True\n",
    "iterations=0\n",
    "while flag:\n",
    "    iterations+=1\n",
    "    print('Iteration: ', iterations)\n",
    "    prev_center = deepcopy(center)\n",
    "    new_center = updateCenter(center)\n",
    "    center = new_center\n",
    "    center_list = [center]\n",
    "    flag = False\n",
    "    bool_ = center == prev_center\n",
    "    if type(bool_) != bool:\n",
    "        if 0 in bool_:\n",
    "            flag = True\n",
    "#     if prev_center in center_list:\n",
    "#         flag = False\n",
    "    if center in data:\n",
    "        print(\"Center  coincides with given data point. Halting\")\n",
    "        break\n",
    "    \n",
    "if flag == False:\n",
    "    print('Center after convergence = ', center)"
   ]
  },
  {
   "cell_type": "code",
   "execution_count": 131,
   "metadata": {},
   "outputs": [
    {
     "name": "stdout",
     "output_type": "stream",
     "text": [
      "[ 8.33430544e+01 -2.01846398e+00 -6.09935857e-02 -3.37486974e-01\n",
      " -3.93876065e+00 -1.54683152e+00 -2.15045567e+00 -4.93427203e-01\n",
      " -1.34570192e+00  4.79301824e-02  4.41441292e-01  1.85433906e-01\n",
      "  2.96448376e-01]\n"
     ]
    }
   ],
   "source": [
    "print(center)"
   ]
  },
  {
   "cell_type": "code",
   "execution_count": null,
   "metadata": {},
   "outputs": [],
   "source": []
  }
 ],
 "metadata": {
  "kernelspec": {
   "display_name": "Python 3",
   "language": "python",
   "name": "python3"
  },
  "language_info": {
   "codemirror_mode": {
    "name": "ipython",
    "version": 3
   },
   "file_extension": ".py",
   "mimetype": "text/x-python",
   "name": "python",
   "nbconvert_exporter": "python",
   "pygments_lexer": "ipython3",
   "version": "3.7.5"
  }
 },
 "nbformat": 4,
 "nbformat_minor": 2
}
